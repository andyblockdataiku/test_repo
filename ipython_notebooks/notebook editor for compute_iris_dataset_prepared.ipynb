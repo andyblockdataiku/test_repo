{
  "nbformat": 4,
  "nbformat_minor": 0,
  "metadata": {
    "kernelspec": {
      "display_name": "Python (env RBC_demo)",
      "language": "python",
      "name": "py-dku-venv-rbc_demo"
    },
    "associatedRecipe": "compute_iris_dataset_prepared",
    "dkuGit": {
      "lastInteraction": 0
    },
    "creationTag": {
      "versionNumber": 0,
      "lastModifiedBy": {
        "login": "admin"
      },
      "lastModifiedOn": 1645631124069
    },
    "creator": "admin",
    "createdOn": 1645631124069,
    "tags": [
      "recipe-editor"
    ],
    "customFields": {}
  },
  "cells": [
    {
      "cell_type": "code",
      "metadata": {},
      "outputs": [],
      "execution_count": 0,
      "source": [
        "# -*- coding: utf-8 -*-\n",
        "import dataiku\n",
        "import pandas as pd, numpy as np\n",
        "from dataiku import pandasutils as pdu"
      ]
    },
    {
      "cell_type": "code",
      "metadata": {},
      "outputs": [],
      "execution_count": 0,
      "source": [
        "# Read recipe inputs\n",
        "iris_dataset_python \u003d dataiku.Dataset(\"iris_dataset_python\")\n",
        "iris_dataset_python_df \u003d iris_dataset_python.get_dataframe()"
      ]
    },
    {
      "cell_type": "code",
      "metadata": {},
      "outputs": [],
      "execution_count": 0,
      "source": [
        "iris_dataset_prepared_df \u003d iris_dataset_python_df[iris_dataset_python_df[\u0027sepal width (cm)\u0027] \u003e\u003d 3.0]"
      ]
    },
    {
      "cell_type": "code",
      "metadata": {},
      "outputs": [],
      "execution_count": 0,
      "source": [
        "iris_dataset_prepared \u003d dataiku.Dataset(\"iris_dataset_prepared\")\n",
        "iris_dataset_prepared.write_with_schema(iris_dataset_prepared_df)"
      ]
    }
  ]
}