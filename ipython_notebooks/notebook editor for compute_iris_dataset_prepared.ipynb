{
  "nbformat": 4,
  "nbformat_minor": 0,
  "metadata": {
    "kernelspec": {
      "display_name": "Python 3",
      "language": "python",
      "name": "python3"
    },
    "associatedRecipe": "compute_iris_dataset_prepared",
    "creator": "admin",
    "createdOn": 1645631124069,
    "tags": [
      "recipe-editor"
    ],
    "customFields": {}
  },
  "cells": [
    {
      "cell_type": "code",
      "metadata": {},
      "outputs": [],
      "execution_count": 0,
      "source": [
        "# -*- coding: utf-8 -*-\n",
        "import dataiku\n",
        "import pandas as pd, numpy as np\n",
        "from dataiku import pandasutils as pdu\n",
        "\n",
        "# Read recipe inputs\n",
        "iris_dataset_python \u003d dataiku.Dataset(\"iris_dataset_python\")\n",
        "iris_dataset_python_df \u003d iris_dataset_python.get_dataframe()\n",
        "\n",
        "\n",
        "# Compute recipe outputs from inputs\n",
        "# TODO: Replace this part by your actual code that computes the output, as a Pandas dataframe\n",
        "# NB: DSS also supports other kinds of APIs for reading and writing data. Please see doc.\n",
        "\n",
        "iris_dataset_prepared_df \u003d iris_dataset_python_df # For this sample code, simply copy input to output\n",
        "\n",
        "\n",
        "# Write recipe outputs\n",
        "iris_dataset_prepared \u003d dataiku.Dataset(\"iris_dataset_prepared\")\n",
        "iris_dataset_prepared.write_with_schema(iris_dataset_prepared_df)"
      ]
    }
  ]
}