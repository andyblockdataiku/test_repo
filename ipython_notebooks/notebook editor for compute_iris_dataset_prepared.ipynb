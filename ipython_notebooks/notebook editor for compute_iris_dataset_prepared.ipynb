{
  "metadata": {
    "kernelspec": {
      "name": "python3",
      "display_name": "Python 3",
      "language": "python"
    },
    "associatedRecipe": "compute_iris_dataset_prepared",
    "creator": "admin",
    "createdOn": 1645631124069,
    "tags": [
      "recipe-editor"
    ],
    "customFields": {},
    "hide_input": false,
    "language_info": {
      "name": "python",
      "version": "3.7.12",
      "mimetype": "text/x-python",
      "codemirror_mode": {
        "name": "ipython",
        "version": 3
      },
      "pygments_lexer": "ipython3",
      "nbconvert_exporter": "python",
      "file_extension": ".py"
    },
    "modifiedBy": "admin"
  },
  "nbformat": 4,
  "nbformat_minor": 1,
  "cells": [
    {
      "execution_count": 0,
      "cell_type": "code",
      "metadata": {},
      "source": [
        "# -*- coding: utf-8 -*-\nimport dataiku\nimport pandas as pd, numpy as np\nfrom dataiku import pandasutils as pdu\n\n# Read recipe inputs\niris_dataset_python \u003d dataiku.Dataset(\"iris_dataset_python\")\niris_dataset_python_df \u003d iris_dataset_python.get_dataframe()\n\n\n# Compute recipe outputs from inputs\n# TODO: Replace this part by your actual code that computes the output, as a Pandas dataframe\n# NB: DSS also supports other kinds of APIs for reading and writing data. Please see doc.\n\niris_dataset_prepared_df \u003d iris_dataset_python_df[iris_dataset_python_df[\u0027sepal width (cm)\u0027] \u003e\u003d 3.0]\n\n\n# Write recipe outputs\niris_dataset_prepared \u003d dataiku.Dataset(\"iris_dataset_prepared\")\niris_dataset_prepared.write_with_schema(iris_dataset_prepared_df)"
      ],
      "outputs": []
    },
    {
      "execution_count": 0,
      "cell_type": "code",
      "metadata": {},
      "source": [
        ""
      ],
      "outputs": []
    }
  ]
}