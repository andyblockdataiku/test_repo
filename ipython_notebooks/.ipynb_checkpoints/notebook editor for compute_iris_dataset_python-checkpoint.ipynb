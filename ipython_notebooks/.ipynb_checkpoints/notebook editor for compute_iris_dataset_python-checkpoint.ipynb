{
  "metadata": {
    "kernelspec": {
      "name": "python3",
      "display_name": "Python 3",
      "language": "python"
    },
    "associatedRecipe": "compute_iris_dataset_python",
    "creator": "admin",
    "createdOn": 1645624975385,
    "tags": [
      "recipe-editor"
    ],
    "customFields": {},
    "hide_input": false,
    "language_info": {
      "name": "python",
      "version": "3.7.12",
      "mimetype": "text/x-python",
      "codemirror_mode": {
        "name": "ipython",
        "version": 3
      },
      "pygments_lexer": "ipython3",
      "nbconvert_exporter": "python",
      "file_extension": ".py"
    },
    "modifiedBy": "admin"
  },
  "nbformat": 4,
  "nbformat_minor": 1,
  "cells": [
    {
      "execution_count": 1,
      "cell_type": "code",
      "metadata": {},
      "source": [
        "# -*- coding: utf-8 -*-\nimport dataiku\nimport pandas as pd, numpy as np\nfrom dataiku import pandasutils as pdu\nfrom sklearn.datasets import load_iris\n"
      ],
      "outputs": []
    },
    {
      "execution_count": 2,
      "cell_type": "code",
      "metadata": {},
      "source": [
        "iris \u003d load_iris()\n\niris_dataset_python_df \u003d pd.DataFrame(data\u003d np.c_[iris[\u0027data\u0027], iris[\u0027target\u0027]], \n                                      columns\u003d iris[\u0027feature_names\u0027] + [\u0027target\u0027])"
      ],
      "outputs": []
    },
    {
      "execution_count": 3,
      "cell_type": "code",
      "metadata": {},
      "source": [
        "# Write recipe outputs\niris_dataset_python \u003d dataiku.Dataset(\"iris_dataset_python\")\niris_dataset_python.write_with_schema(iris_dataset_python_df)"
      ],
      "outputs": [
        {
          "output_type": "stream",
          "text": "150 rows successfully written (VrtgLNHhy8)\n",
          "name": "stdout"
        }
      ]
    },
    {
      "execution_count": 0,
      "cell_type": "code",
      "metadata": {},
      "source": [
        ""
      ],
      "outputs": []
    }
  ]
}