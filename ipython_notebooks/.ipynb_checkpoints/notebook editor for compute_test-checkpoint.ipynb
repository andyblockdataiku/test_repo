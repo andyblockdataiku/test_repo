{
  "nbformat": 4,
  "nbformat_minor": 0,
  "metadata": {
    "kernelspec": {
      "display_name": "Python 3",
      "language": "python",
      "name": "python3"
    },
    "associatedRecipe": "compute_test",
    "creator": "admin",
    "createdOn": 1645632723852,
    "tags": [
      "recipe-editor"
    ],
    "customFields": {}
  },
  "cells": [
    {
      "cell_type": "code",
      "metadata": {},
      "outputs": [],
      "execution_count": 0,
      "source": [
        "# -*- coding: utf-8 -*-\n",
        "import dataiku\n",
        "import pandas as pd, numpy as np\n",
        "from dataiku import pandasutils as pdu\n",
        "\n",
        "# Read recipe inputs\n",
        "iris_dataset \u003d dataiku.Dataset(\"iris_dataset\")\n",
        "iris_dataset_df \u003d iris_dataset.get_dataframe()\n",
        "\n",
        "\n",
        "# Compute recipe outputs from inputs\n",
        "# TODO: Replace this part by your actual code that computes the output, as a Pandas dataframe\n",
        "# NB: DSS also supports other kinds of APIs for reading and writing data. Please see doc.\n",
        "\n",
        "test_df \u003d iris_dataset_df # For this sample code, simply copy input to output\n",
        "\n",
        "\n",
        "# Write recipe outputs\n",
        "test \u003d dataiku.Dataset(\"test\")\n",
        "test.write_with_schema(test_df)"
      ]
    }
  ]
}