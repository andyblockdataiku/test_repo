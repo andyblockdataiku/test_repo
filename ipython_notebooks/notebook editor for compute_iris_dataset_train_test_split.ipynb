{
  "nbformat": 4,
  "nbformat_minor": 0,
  "metadata": {
    "kernelspec": {
      "display_name": "Python (env RBC_demo)",
      "language": "python",
      "name": "py-dku-venv-rbc_demo"
    },
    "associatedRecipe": "compute_iris_dataset_train_test_split",
    "creator": "admin",
    "createdOn": 1645712770717,
    "tags": [
      "recipe-editor"
    ],
    "customFields": {}
  },
  "cells": [
    {
      "cell_type": "code",
      "metadata": {},
      "outputs": [],
      "execution_count": 0,
      "source": [
        "# -*- coding: utf-8 -*-\n",
        "import dataiku\n",
        "import pandas as pd, numpy as np\n",
        "from dataiku import pandasutils as pdu\n",
        "\n",
        "# Read recipe inputs\n",
        "iris_dataset_prepared \u003d dataiku.Dataset(\"iris_dataset_prepared\")\n",
        "iris_dataset_prepared_df \u003d iris_dataset_prepared.get_dataframe()\n",
        "\n",
        "\n",
        "# Compute recipe outputs from inputs\n",
        "# TODO: Replace this part by your actual code that computes the output, as a Pandas dataframe\n",
        "# NB: DSS also supports other kinds of APIs for reading and writing data. Please see doc.\n",
        "\n",
        "iris_dataset_train_test_split_df \u003d iris_dataset_prepared_df # For this sample code, simply copy input to output\n",
        "\n",
        "\n",
        "# Write recipe outputs\n",
        "iris_dataset_train_test_split \u003d dataiku.Dataset(\"iris_dataset_train_test_split\")\n",
        "iris_dataset_train_test_split.write_with_schema(iris_dataset_train_test_split_df)"
      ]
    }
  ]
}